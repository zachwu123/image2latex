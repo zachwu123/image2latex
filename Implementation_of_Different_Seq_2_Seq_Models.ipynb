{
  "nbformat": 4,
  "nbformat_minor": 0,
  "metadata": {
    "colab": {
      "provenance": [],
      "machine_shape": "hm"
    },
    "kernelspec": {
      "name": "python3",
      "display_name": "Python 3"
    },
    "language_info": {
      "name": "python"
    }
  },
  "cells": [
    {
      "cell_type": "markdown",
      "source": [
        "# Dataset preprocess"
      ],
      "metadata": {
        "id": "pscJEUF1ZV0s"
      }
    },
    {
      "cell_type": "code",
      "execution_count": null,
      "metadata": {
        "id": "xYe2KIOANpqt",
        "colab": {
          "base_uri": "https://localhost:8080/"
        },
        "outputId": "550675a9-ace1-4876-ee19-97d793526e68"
      },
      "outputs": [
        {
          "output_type": "stream",
          "name": "stdout",
          "text": [
            "Mounted at /content/drive\n"
          ]
        }
      ],
      "source": [
        "from google.colab import drive\n",
        "drive.mount('/content/drive')"
      ]
    },
    {
      "cell_type": "code",
      "source": [
        "!tar -xzvf /content/drive/MyDrive/301Project/off_image_test.tar.gz\n",
        "!tar -xzvf /content/drive/MyDrive/301Project/off_image_train.tar.gz"
      ],
      "metadata": {
        "id": "I1DiPaQHN0Iq"
      },
      "execution_count": null,
      "outputs": []
    },
    {
      "cell_type": "code",
      "source": [
        "import matplotlib.pyplot as plt\n",
        "import numpy as np\n",
        "from PIL import Image\n",
        "image1 = Image.open(\"off_image_train/MfrDB1326_0.bmp\")\n",
        "plt.imshow(image1)"
      ],
      "metadata": {
        "colab": {
          "base_uri": "https://localhost:8080/",
          "height": 257
        },
        "id": "K13mDbh9N5Vv",
        "outputId": "3553f075-7b2c-4c62-ac61-9fa917bf3388"
      },
      "execution_count": null,
      "outputs": [
        {
          "output_type": "execute_result",
          "data": {
            "text/plain": [
              "<matplotlib.image.AxesImage at 0x79296814c4c0>"
            ]
          },
          "metadata": {},
          "execution_count": 3
        },
        {
          "output_type": "display_data",
          "data": {
            "text/plain": [
              "<Figure size 640x480 with 1 Axes>"
            ],
            "image/png": "[encoded data removed]"
          },
          "metadata": {}
        }
      ]
    },
    {
      "cell_type": "code",
      "source": [
        "import os\n",
        "from torch.utils.data import Dataset\n",
        "\n",
        "class ImageDataset(Dataset):\n",
        "    def __init__(self, image_dir, caption_file, transform=None):\n",
        "        \"\"\"\n",
        "        Args:\n",
        "            image_dir (string): Directory with all the images.\n",
        "            caption_file (string): Path to the text file with image captions.\n",
        "            transform (callable, optional): Optional transform to be applied on a sample.\n",
        "        \"\"\"\n",
        "        self.image_dir = image_dir\n",
        "        self.image_labels = self._load_labels(caption_file)\n",
        "        self.transform = transform\n",
        "\n",
        "    def _load_labels(self, caption_file):\n",
        "        # Load the labels from the file\n",
        "        image_labels = {}\n",
        "        with open(caption_file, 'r') as file:\n",
        "            for line in file:\n",
        "                parts = line.strip().split('\\t')\n",
        "                if len(parts) != 2:\n",
        "                    print(f'illegal line: {line}')\n",
        "                    continue\n",
        "                image_labels[parts[0]] = parts[1]\n",
        "        return image_labels\n",
        "\n",
        "    def __len__(self):\n",
        "        return len(self.image_labels)\n",
        "\n",
        "    def __getitem__(self, idx):\n",
        "        # Get the image name and its corresponding label\n",
        "        image_name = list(self.image_labels.keys())[idx]\n",
        "        label = self.image_labels[image_name]\n",
        "\n",
        "        # Load image\n",
        "        image_path = os.path.join(self.image_dir, image_name + '_0.bmp')\n",
        "        image = Image.open(image_path).convert('L')\n",
        "\n",
        "        # Apply transformation\n",
        "        if self.transform:\n",
        "            image = self.transform(image)\n",
        "\n",
        "        # Convert label to tensor or numerical format if required\n",
        "        # For example, using a label encoder or dictionary mapping\n",
        "\n",
        "        sample = {'image': image, 'label': label}\n",
        "\n",
        "        return sample"
      ],
      "metadata": {
        "id": "DPVx5X48N_AF"
      },
      "execution_count": null,
      "outputs": []
    },
    {
      "cell_type": "code",
      "source": [
        "import random\n",
        "\n",
        "# Define the directory where the images are located\n",
        "image_dir = 'off_image_train'\n",
        "\n",
        "# Path to the caption file\n",
        "caption_file_path = '/content/drive/MyDrive/301Project/train_caption.txt'\n",
        "\n",
        "# Function to load image names and labels from the caption file\n",
        "def load_image_labels(caption_file_path):\n",
        "    image_labels = {}\n",
        "    with open(caption_file_path, 'r') as file:\n",
        "        for line in file:\n",
        "            parts = line.strip().split('\\t')\n",
        "            if len(parts) == 2:\n",
        "                image_labels[parts[0]] = parts[1]\n",
        "    return image_labels\n",
        "\n",
        "# Function to display a random image and its label\n",
        "def display_random_image(image_dir, image_labels):\n",
        "    random_key = random.choice(list(image_labels.keys()))\n",
        "    image_path = os.path.join(image_dir, random_key + '_0.bmp')\n",
        "    image = Image.open(image_path)\n",
        "    label = image_labels[random_key]\n",
        "\n",
        "    # Display the image\n",
        "    plt.imshow(image, cmap='gray')\n",
        "    plt.title(label)\n",
        "    plt.axis('off')  # Hide the axis\n",
        "    plt.show()\n",
        "    return image, label\n",
        "\n",
        "# Load image names and labels\n",
        "image_labels = load_image_labels(caption_file_path)\n",
        "\n",
        "# Display a random image and its label\n",
        "random_image, random_label = display_random_image(image_dir, image_labels)\n",
        "random_label  # Returning the label as well to output it in the next cell"
      ],
      "metadata": {
        "colab": {
          "base_uri": "https://localhost:8080/",
          "height": 392
        },
        "id": "Rppo1RiyODCt",
        "outputId": "1d3527e3-d9f7-488d-a5cc-443212a8a6f7"
      },
      "execution_count": null,
      "outputs": [
        {
          "output_type": "display_data",
          "data": {
            "text/plain": [
              "<Figure size 640x480 with 1 Axes>"
            ],
            "image/png": "[encoded data removed]"
          },
          "metadata": {}
        },
        {
          "output_type": "execute_result",
          "data": {
            "text/plain": [
              "'( m ) ^ { \\\\phi }'"
            ],
            "application/vnd.google.colaboratory.intrinsic+json": {
              "type": "string"
            }
          },
          "metadata": {},
          "execution_count": 5
        }
      ]
    },
    {
      "cell_type": "code",
      "source": [
        "test_file_path = '/content/drive/MyDrive/301Project/test_caption.txt'\n",
        "test_labels = load_image_labels(test_file_path)"
      ],
      "metadata": {
        "id": "qh2fRKLDOcE6"
      },
      "execution_count": null,
      "outputs": []
    },
    {
      "cell_type": "code",
      "source": [
        "import os\n",
        "import sys\n",
        "import pickle as pkl\n",
        "import numpy as np\n",
        "import imageio\n",
        "\n",
        "#image_path = '/content/off_image_train/'\n",
        "image_path = '/content/off_image_test/'\n",
        "#outFile = 'offline-train.pkl'\n",
        "outFile = 'offline-test.pkl'\n",
        "\n",
        "features = {}\n",
        "channels = 1\n",
        "sentNum = 0\n",
        "\n",
        "#caption_file_path = '/content/drive/MyDrive/301Project/train_caption.txt'\n",
        "caption_file_path = '/content/drive/MyDrive/301Project/test_caption.txt'\n",
        "\n",
        "# Use 'with' statements to handle files\n",
        "with open(caption_file_path) as scpFile, open(outFile, 'wb') as oupFp_feature:\n",
        "    while True:\n",
        "        line = scpFile.readline().strip()  # remove the '\\r\\n'\n",
        "        if not line:\n",
        "            break\n",
        "        else:\n",
        "            key = line.split('\\t')[0]\n",
        "            image_file = image_path + key + '_' + str(0) + '.bmp'\n",
        "            im = imageio.imread(image_file)\n",
        "            mat = np.zeros([channels, im.shape[0], im.shape[1]], dtype='uint8')\n",
        "            for channel in range(channels):\n",
        "                image_file = image_path + key + '_' + str(channel) + '.bmp'\n",
        "                im = imageio.imread(image_file)\n",
        "                mat[channel, :, :] = im\n",
        "            sentNum += 1\n",
        "            features[key] = mat\n",
        "            if sentNum % 500 == 0:\n",
        "                print('process sentences ', sentNum)\n",
        "\n",
        "    print('load images done. sentence number ', sentNum)\n",
        "\n",
        "    # Pickle the 'features' dictionary using the highest protocol available\n",
        "    pkl.dump(features, oupFp_feature, protocol=pkl.HIGHEST_PROTOCOL)\n",
        "    print('save file done')\n"
      ],
      "metadata": {
        "colab": {
          "base_uri": "https://localhost:8080/"
        },
        "id": "OQbgCSWmOJA3",
        "outputId": "ebbb557f-5766-4883-bf7a-14bc371e04bc"
      },
      "execution_count": null,
      "outputs": [
        {
          "output_type": "stream",
          "name": "stderr",
          "text": [
            "<ipython-input-7-60eaf5a74811>:28: DeprecationWarning: Starting with ImageIO v3 the behavior of this function will switch to that of iio.v3.imread. To keep the current behavior (and make this warning disappear) use `import imageio.v2 as imageio` or call `imageio.v2.imread` directly.\n",
            "  im = imageio.imread(image_file)\n",
            "<ipython-input-7-60eaf5a74811>:32: DeprecationWarning: Starting with ImageIO v3 the behavior of this function will switch to that of iio.v3.imread. To keep the current behavior (and make this warning disappear) use `import imageio.v2 as imageio` or call `imageio.v2.imread` directly.\n",
            "  im = imageio.imread(image_file)\n"
          ]
        },
        {
          "output_type": "stream",
          "name": "stdout",
          "text": [
            "process sentences  500\n",
            "load images done. sentence number  986\n",
            "save file done\n"
          ]
        }
      ]
    },
    {
      "cell_type": "code",
      "source": [
        "\n",
        "def gen_voc(infile, vocfile):\n",
        "    vocab = set()\n",
        "    with open(infile, encoding='utf-8') as f:  # Specify encoding if needed\n",
        "        for line in f:\n",
        "            parts = line.strip().split('\\t')\n",
        "            if len(parts) != 2:\n",
        "                print('illegal line:', line)\n",
        "                continue\n",
        "            (title, label) = parts\n",
        "            for w in label.split():\n",
        "                vocab.add(w)  # No need to check if in vocab due to the nature of a set\n",
        "\n",
        "    with open(vocfile, 'w', encoding='utf-8') as fout:  # Specify encoding if needed\n",
        "        for i, w in enumerate(sorted(vocab)):  # Sort vocab for consistent ordering\n",
        "            fout.write('{}\\t{}\\n'.format(w, i+1))\n",
        "        fout.write('<eol>\\t0\\n')  # Assuming you want to include <eol> in your vocab\n",
        "    print('vocab file generated')\n",
        "\n",
        "train_cap = '/content/drive/MyDrive/301Project/train_caption.txt'\n",
        "test_cap = '/content/drive/MyDrive/301Project/test_caption.txt'\n",
        "vocfile = 'vocabulary.txt'\n",
        "gen_voc(train_cap, vocfile)"
      ],
      "metadata": {
        "colab": {
          "base_uri": "https://localhost:8080/"
        },
        "id": "WUufzxtIP-f1",
        "outputId": "d4cbacd6-4412-44b8-de88-2734e96cf4ea"
      },
      "execution_count": null,
      "outputs": [
        {
          "output_type": "stream",
          "name": "stdout",
          "text": [
            "vocab file generated\n"
          ]
        }
      ]
    },
    {
      "cell_type": "markdown",
      "source": [
        "# Encoder (Resnet50)"
      ],
      "metadata": {
        "id": "6VHfbZ6ZZaQj"
      }
    },
    {
      "cell_type": "code",
      "source": [
        "from tensorflow.keras.applications.resnet50 import ResNet50, preprocess_input\n",
        "from tensorflow.keras.preprocessing import image\n",
        "from tensorflow.keras.models import Model\n",
        "import numpy as np\n",
        "import os\n",
        "\n",
        "def preprocess_image(img_path):\n",
        "    \"\"\"Preprocess the image to be ResNet-50 compatible\"\"\"\n",
        "    img = image.load_img(img_path, target_size=(224, 224))\n",
        "    img_array = image.img_to_array(img)[:100]\n",
        "    img_array_expanded_dims = np.expand_dims(img_array, axis=0)\n",
        "    return preprocess_input(img_array_expanded_dims)\n",
        "\n",
        "def extract_features(directory):\n",
        "    \"\"\"Extract features from all images in the given directory\"\"\"\n",
        "    model = ResNet50(weights='imagenet', include_top=False)\n",
        "    model = Model(inputs=model.inputs, outputs=model.layers[-1].output)  # Get the last convolutional layer\n",
        "    features = {}\n",
        "    for img_name in os.listdir(directory)[:3000]:\n",
        "        # Ensure processing only .bmp files\n",
        "        if img_name.lower().endswith('.bmp'):\n",
        "            img_path = os.path.join(directory, img_name)\n",
        "            img_preprocessed = preprocess_image(img_path)\n",
        "            features_vector = model.predict(img_preprocessed)\n",
        "            features_vector = features_vector.flatten()  # Flatten the features to a vector\n",
        "            img_id = img_name.split('.')[0][:-2]  # Assuming img_name format is 'id.bmp'\n",
        "            features[img_id] = features_vector\n",
        "    return features\n",
        "\n",
        "train_features = extract_features('/content/off_image_train')"
      ],
      "metadata": {
        "id": "w9WxEpAcUeKo"
      },
      "execution_count": null,
      "outputs": []
    },
    {
      "cell_type": "code",
      "source": [
        "def extract_features_test(directory):\n",
        "    \"\"\"Extract features from all images in the given directory\"\"\"\n",
        "    model = ResNet50(weights='imagenet', include_top=False)\n",
        "    model = Model(inputs=model.inputs, outputs=model.layers[-1].output)  # Get the last convolutional layer\n",
        "    features = {}\n",
        "    for img_name in os.listdir(directory)[:800]:\n",
        "        # Ensure processing only .bmp files\n",
        "        if img_name.lower().endswith('.bmp'):\n",
        "            img_path = os.path.join(directory, img_name)\n",
        "            img_preprocessed = preprocess_image(img_path)\n",
        "            features_vector = model.predict(img_preprocessed)\n",
        "            features_vector = features_vector.flatten()  # Flatten the features to a vector\n",
        "            img_id = img_name.split('.')[0][:-2]  # Assuming img_name format is 'id.bmp'\n",
        "            features[img_id] = features_vector\n",
        "    return features\n",
        "\n",
        "# Example usage:\n",
        "test_features = extract_features_test('/content/off_image_test')"
      ],
      "metadata": {
        "id": "D0cPb5g9N79L"
      },
      "execution_count": null,
      "outputs": []
    },
    {
      "cell_type": "code",
      "source": [
        "train_features"
      ],
      "metadata": {
        "id": "uqYRQlaAqtVN"
      },
      "execution_count": null,
      "outputs": []
    },
    {
      "cell_type": "markdown",
      "source": [
        "# Encoder (Resnet50+positional encoding)"
      ],
      "metadata": {
        "id": "1QCaWOnKZ3_O"
      }
    },
    {
      "cell_type": "code",
      "source": [
        "import tensorflow as tf\n",
        "import math\n",
        "from tensorflow.keras.applications.resnet50 import ResNet50\n",
        "from tensorflow.keras.models import Model\n",
        "\n",
        "# Assuming TensorFlow 2.x; for TensorFlow 1.x, adjustments may be needed\n",
        "#https://github.com/guillaumegenthial/im2latex/blob/master/model/components/positional.py\n",
        "def add_timing_signal_nd(x, min_timescale=1.0, max_timescale=1.0e4):\n",
        "    static_shape = x.shape.as_list()\n",
        "    num_dims = len(static_shape) - 2\n",
        "    channels = x.shape[-1]\n",
        "    num_timescales = channels // (num_dims * 2)\n",
        "    log_timescale_increment = (\n",
        "        math.log(float(max_timescale) / float(min_timescale)) /\n",
        "        (float(num_timescales) - 1))\n",
        "    inv_timescales = min_timescale * tf.exp(\n",
        "        tf.range(num_timescales, dtype=tf.float32) * -log_timescale_increment)\n",
        "    for dim in range(num_dims):\n",
        "        length = x.shape[dim + 1]\n",
        "        position = tf.range(length, dtype=tf.float32)\n",
        "        scaled_time = tf.expand_dims(position, 1) * tf.expand_dims(\n",
        "            inv_timescales, 0)\n",
        "        signal = tf.concat([tf.sin(scaled_time), tf.cos(scaled_time)], axis=1)\n",
        "        prepad = dim * 2 * num_timescales\n",
        "        postpad = channels - (dim + 1) * 2 * num_timescales\n",
        "        signal = tf.pad(signal, [[0, 0], [prepad, postpad]])\n",
        "        for _ in range(1 + dim):\n",
        "            signal = tf.expand_dims(signal, 0)\n",
        "        for _ in range(num_dims - 1 - dim):\n",
        "            signal = tf.expand_dims(signal, -2)\n",
        "        x = x + signal\n",
        "    return x\n",
        "\n",
        "# Load ResNet50 model\n",
        "model = ResNet50(weights='imagenet', include_top=False)\n",
        "model = Model(inputs=model.inputs, outputs=model.layers[-1].output)\n",
        "\n",
        "# Example usage in a function\n",
        "def extract_features_with_positional_encoding(directory, set):\n",
        "    features = {}\n",
        "    if set == 'train':\n",
        "      for img_name in os.listdir(directory)[0:3000]:\n",
        "          if img_name.lower().endswith('.bmp'):\n",
        "              img_path = os.path.join(directory, img_name)\n",
        "              img_preprocessed = preprocess_image(img_path)\n",
        "              cnn_output = model(img_preprocessed)\n",
        "              cnn_output_with_pos = add_timing_signal_nd(cnn_output)\n",
        "              # Additional processing such as flattening if needed\n",
        "              features_vector = cnn_output_with_pos.numpy().flatten()\n",
        "              img_id = img_name.split('.')[0]\n",
        "              features[img_id] = features_vector\n",
        "    elif set == 'test':\n",
        "      for img_name in os.listdir(directory)[0:500]:\n",
        "          if img_name.lower().endswith('.bmp'):\n",
        "              img_path = os.path.join(directory, img_name)\n",
        "              img_preprocessed = preprocess_image(img_path)\n",
        "              cnn_output = model(img_preprocessed)\n",
        "              cnn_output_with_pos = add_timing_signal_nd(cnn_output)\n",
        "              # Additional processing such as flattening if needed\n",
        "              features_vector = cnn_output_with_pos.numpy().flatten()\n",
        "              img_id = img_name.split('.')[0]\n",
        "              features[img_id] = features_vector\n",
        "    return features\n",
        "\n",
        "# Example usage:\n",
        "train_features = extract_features_with_positional_encoding('/content/off_image_train', 'train')\n",
        "test_features = extract_features_with_positional_encoding('/content/off_image_test', 'test')"
      ],
      "metadata": {
        "id": "QVD6qOW8Z9Lo"
      },
      "execution_count": null,
      "outputs": []
    },
    {
      "cell_type": "code",
      "source": [
        "len(train_features)"
      ],
      "metadata": {
        "colab": {
          "base_uri": "https://localhost:8080/"
        },
        "id": "4ruQOsPki1fq",
        "outputId": "cc5b9dc0-9fd3-4cdc-920e-90ac433e7935"
      },
      "execution_count": null,
      "outputs": [
        {
          "output_type": "execute_result",
          "data": {
            "text/plain": [
              "3000"
            ]
          },
          "metadata": {},
          "execution_count": 105
        }
      ]
    },
    {
      "cell_type": "markdown",
      "source": [
        "# Encoder (DenseNet169+positional)"
      ],
      "metadata": {
        "id": "el94NcSHUVWe"
      }
    },
    {
      "cell_type": "code",
      "source": [
        "import tensorflow as tf\n",
        "import math\n",
        "from tensorflow.keras.applications.densenet import DenseNet169, preprocess_input\n",
        "from tensorflow.keras.models import Model\n",
        "from tensorflow.keras.preprocessing import image\n",
        "import numpy as np\n",
        "import os\n",
        "\n",
        "def preprocess_image(img_path):\n",
        "    \"\"\"Preprocess the image to be DenseNet-169 compatible\"\"\"\n",
        "    img = image.load_img(img_path, target_size=(224, 224))\n",
        "    img_array = image.img_to_array(img)\n",
        "    img_array_expanded_dims = np.expand_dims(img_array, axis=0)\n",
        "    return preprocess_input(img_array_expanded_dims)\n",
        "\n",
        "def add_timing_signal_nd(x, min_timescale=1.0, max_timescale=1.0e4):\n",
        "    static_shape = x.shape.as_list()\n",
        "    num_dims = len(static_shape) - 2\n",
        "    channels = x.shape[-1]\n",
        "    num_timescales = channels // (num_dims * 2)\n",
        "    log_timescale_increment = (\n",
        "        math.log(float(max_timescale) / float(min_timescale)) /\n",
        "        (float(num_timescales) - 1))\n",
        "    inv_timescales = min_timescale * tf.exp(\n",
        "        tf.range(num_timescales, dtype=tf.float32) * -log_timescale_increment)\n",
        "    for dim in range(num_dims):\n",
        "        length = x.shape[dim + 1]\n",
        "        position = tf.range(length, dtype=tf.float32)\n",
        "        scaled_time = tf.expand_dims(position, 1) * tf.expand_dims(\n",
        "            inv_timescales, 0)\n",
        "        signal = tf.concat([tf.sin(scaled_time), tf.cos(scaled_time)], axis=1)\n",
        "        prepad = dim * 2 * num_timescales\n",
        "        postpad = channels - (dim + 1) * 2 * num_timescales\n",
        "        signal = tf.pad(signal, [[0, 0], [prepad, postpad]])\n",
        "        for _ in range(1 + dim):\n",
        "            signal = tf.expand_dims(signal, 0)\n",
        "        for _ in range(num_dims - 1 - dim):\n",
        "            signal = tf.expand_dims(signal, -2)\n",
        "        x = x + signal\n",
        "    return x\n",
        "\n",
        "# Load DenseNet169 model\n",
        "model = DenseNet169(weights='imagenet', include_top=False)\n",
        "model = Model(inputs=model.inputs, outputs=model.layers[-1].output)\n",
        "\n",
        "def extract_features_with_positional_encoding(directory, set):\n",
        "    features = {}\n",
        "    if set == 'train':\n",
        "      for img_name in os.listdir(directory)[0:3000]:\n",
        "          if img_name.lower().endswith('.bmp'):\n",
        "              img_path = os.path.join(directory, img_name)\n",
        "              img_preprocessed = preprocess_image(img_path)\n",
        "              cnn_output = model(img_preprocessed)\n",
        "              cnn_output_with_pos = add_timing_signal_nd(cnn_output)\n",
        "              features_vector = cnn_output_with_pos.numpy().flatten()\n",
        "              img_id = img_name.split('.')[0]\n",
        "              features[img_id] = features_vector\n",
        "    elif set == 'test':\n",
        "      for img_name in os.listdir(directory)[0:500]:\n",
        "          if img_name.lower().endswith('.bmp'):\n",
        "              img_path = os.path.join(directory, img_name)\n",
        "              img_preprocessed = preprocess_image(img_path)\n",
        "              cnn_output = model(img_preprocessed)\n",
        "              cnn_output_with_pos = add_timing_signal_nd(cnn_output)\n",
        "              features_vector = cnn_output_with_pos.numpy().flatten()\n",
        "              img_id = img_name.split('.')[0]\n",
        "              features[img_id] = features_vector\n",
        "    return features\n",
        "\n",
        "\n",
        "train_features = extract_features_with_positional_encoding('/content/off_image_train', 'train')\n",
        "test_features = extract_features_with_positional_encoding('/content/off_image_test', 'test')\n"
      ],
      "metadata": {
        "colab": {
          "base_uri": "https://localhost:8080/"
        },
        "id": "08h5p4cFUZQc",
        "outputId": "6125e18f-92a6-4542-a039-a567b487b3eb"
      },
      "execution_count": null,
      "outputs": [
        {
          "output_type": "stream",
          "name": "stdout",
          "text": [
            "Downloading data from https://storage.googleapis.com/tensorflow/keras-applications/densenet/densenet169_weights_tf_dim_ordering_tf_kernels_notop.h5\n",
            "51877672/51877672 [==============================] - 3s 0us/step\n"
          ]
        }
      ]
    },
    {
      "cell_type": "code",
      "source": [
        "len(train_features['200922-949-31'])"
      ],
      "metadata": {
        "colab": {
          "base_uri": "https://localhost:8080/"
        },
        "id": "a9FS2S-6YsdK",
        "outputId": "239c42d7-0ec1-46e3-9522-b6fb0bd69796"
      },
      "execution_count": null,
      "outputs": [
        {
          "output_type": "execute_result",
          "data": {
            "text/plain": [
              "81536"
            ]
          },
          "metadata": {},
          "execution_count": 21
        }
      ]
    },
    {
      "cell_type": "markdown",
      "source": [
        "# Captions Tokenization"
      ],
      "metadata": {
        "id": "TyCU-OAOZgd3"
      }
    },
    {
      "cell_type": "code",
      "source": [
        "# Function to load image names and labels from the caption file\n",
        "def load_captions(caption_file_path):\n",
        "    image_labels = {}\n",
        "    with open(caption_file_path, 'r') as file:\n",
        "        for line in file:\n",
        "            parts = line.strip().split('\\t')\n",
        "            if len(parts) == 2:\n",
        "                image_labels[parts[0]] = parts[1]\n",
        "    return image_labels\n",
        "\n",
        "train_captions = load_captions(train_cap)\n",
        "test_captions = load_captions(test_cap)"
      ],
      "metadata": {
        "id": "RzvHy8lZaOjG"
      },
      "execution_count": null,
      "outputs": []
    },
    {
      "cell_type": "code",
      "source": [
        "train_features = {key[:-2]: value for key, value in train_features.items() if key.endswith('_0')}\n",
        "test_features = {key[:-2]: value for key, value in test_features.items() if key.endswith('_0')}"
      ],
      "metadata": {
        "id": "sMqKbaO6pFD3"
      },
      "execution_count": null,
      "outputs": []
    },
    {
      "cell_type": "code",
      "source": [
        "# Assuming large_dict is your larger dictionary and small_dict is your smaller dictionary.\n",
        "train_captions = {key: train_captions[key] for key in train_features.keys() if key in train_captions}\n",
        "test_captions = {key: test_captions[key] for key in test_features.keys() if key in test_captions}"
      ],
      "metadata": {
        "id": "rlqg07Y5kFDe"
      },
      "execution_count": null,
      "outputs": []
    },
    {
      "cell_type": "code",
      "source": [
        "def preprocess_captions(captions_dict):\n",
        "    \"\"\"Preprocess captions by adding start and end tokens.\"\"\"\n",
        "    for image_id, caption in captions_dict.items():\n",
        "        # Add start and end tokens\n",
        "        captions_dict[image_id] = f'<start> {caption} <end>'\n",
        "    return list(captions_dict.values())\n",
        "\n",
        "train_captions_list = preprocess_captions(train_captions)"
      ],
      "metadata": {
        "id": "fRrmQYsZcPOH"
      },
      "execution_count": null,
      "outputs": []
    },
    {
      "cell_type": "code",
      "source": [
        "train_captions_list"
      ],
      "metadata": {
        "id": "kKUfAO1N43JW"
      },
      "execution_count": null,
      "outputs": []
    },
    {
      "cell_type": "code",
      "source": [
        "from tensorflow.keras.preprocessing.text import Tokenizer\n",
        "from tensorflow.keras.preprocessing.sequence import pad_sequences\n",
        "\n",
        "# Tokenize the captions\n",
        "tokenizer = Tokenizer(filters='', split=' ', lower=False)\n",
        "tokenizer.fit_on_texts(train_captions_list)\n",
        "vocab_size = len(tokenizer.word_index) + 1  # Includes padding token\n",
        "\n",
        "# Convert captions to sequences\n",
        "train_seqs = tokenizer.texts_to_sequences(train_captions_list)\n",
        "\n",
        "# Determine the maximum sequence length\n",
        "max_length = max(len(seq) for seq in train_seqs)\n",
        "\n",
        "# Pad\n",
        "train_seqs = pad_sequences(train_seqs, maxlen=max_length, padding='post')"
      ],
      "metadata": {
        "id": "BMW8IJ6fcQKZ"
      },
      "execution_count": null,
      "outputs": []
    },
    {
      "cell_type": "code",
      "source": [
        "train_seqs[0]"
      ],
      "metadata": {
        "id": "cjKX_nmZg2mK",
        "colab": {
          "base_uri": "https://localhost:8080/"
        },
        "outputId": "ff274d34-9c53-4a55-8e1a-80acb7b76fe6"
      },
      "execution_count": null,
      "outputs": [
        {
          "output_type": "execute_result",
          "data": {
            "text/plain": [
              "array([ 3, 12,  5,  8,  9, 13,  7,  1, 47,  2, 75,  5,  8, 47,  9,  4,  0,\n",
              "        0,  0,  0,  0,  0,  0,  0,  0,  0,  0,  0,  0,  0,  0,  0,  0,  0,\n",
              "        0,  0,  0,  0,  0,  0,  0,  0,  0,  0,  0,  0,  0,  0,  0,  0,  0,\n",
              "        0,  0,  0,  0,  0,  0,  0,  0,  0,  0,  0,  0,  0,  0,  0,  0,  0,\n",
              "        0,  0,  0,  0,  0,  0,  0,  0,  0], dtype=int32)"
            ]
          },
          "metadata": {},
          "execution_count": 121
        }
      ]
    },
    {
      "cell_type": "markdown",
      "source": [
        "# Decoder (LSTM)"
      ],
      "metadata": {
        "id": "IumiMOTnZn8T"
      }
    },
    {
      "cell_type": "code",
      "source": [
        "from tensorflow.keras.models import Model\n",
        "from tensorflow.keras.layers import Input, LSTM, Embedding, Dense, Add, Dropout, BatchNormalization\n",
        "from tensorflow.keras.optimizers import Adam\n",
        "from tensorflow.keras.utils import to_categorical\n",
        "from tensorflow.keras.layers import Concatenate\n",
        "import numpy as np\n",
        "\n",
        "# Define parameters\n",
        "vocab_size = len(tokenizer.word_index) + 1  # Assuming tokenizer is defined\n",
        "max_length = max(len(seq) for seq in train_seqs)  # Assuming train_seqs is defined\n",
        "embedding_dim = 256\n",
        "units = 512\n",
        "\n",
        "# Encoder\n",
        "# `input_feature_shape` is the shape of your current feature vector\n",
        "inputs1 = Input(shape=(81536,))\n",
        "# Project feature vector back to desired shape, e.g., 2048\n",
        "fe1 = Dense(2048, activation='relu')(inputs1)\n",
        "fe2 = Dense(embedding_dim, activation='relu')(fe1)  # Output shape: (batch_size, 256)\n",
        "\n",
        "# Decoder\n",
        "inputs2 = Input(shape=(max_length,))\n",
        "se1 = Embedding(vocab_size, embedding_dim, mask_zero=True)(inputs2)\n",
        "se2 = Dropout(0.5)(se1)\n",
        "se3, _, _ = LSTM(units, return_sequences=False, return_state=True)(se2)  # Output shape: (batch_size, 512)\n",
        "\n",
        "# Decoder model, using Concatenate\n",
        "decoder1 = Concatenate()([fe2, se3])  # New shape: (batch_size, 256+512)\n",
        "decoder2 = Dense(embedding_dim, activation='relu')(decoder1)\n",
        "outputs = Dense(vocab_size, activation='softmax')(decoder2)\n",
        "\n",
        "model = Model(inputs=[inputs1, inputs2], outputs=outputs)\n",
        "model.compile(loss='categorical_crossentropy', optimizer='adam')\n",
        "\n",
        "model.summary()"
      ],
      "metadata": {
        "id": "d76gz8Hcez6u",
        "colab": {
          "base_uri": "https://localhost:8080/"
        },
        "outputId": "c65ff154-8554-413f-b5b1-3797f7ac4530"
      },
      "execution_count": null,
      "outputs": [
        {
          "output_type": "stream",
          "name": "stdout",
          "text": [
            "Model: \"model_2\"\n",
            "__________________________________________________________________________________________________\n",
            " Layer (type)                Output Shape                 Param #   Connected to                  \n",
            "==================================================================================================\n",
            " input_5 (InputLayer)        [(None, 98)]                 0         []                            \n",
            "                                                                                                  \n",
            " input_4 (InputLayer)        [(None, 81536)]              0         []                            \n",
            "                                                                                                  \n",
            " embedding_1 (Embedding)     (None, 98, 256)              28672     ['input_5[0][0]']             \n",
            "                                                                                                  \n",
            " dense_4 (Dense)             (None, 2048)                 1669877   ['input_4[0][0]']             \n",
            "                                                          76                                      \n",
            "                                                                                                  \n",
            " dropout_1 (Dropout)         (None, 98, 256)              0         ['embedding_1[0][0]']         \n",
            "                                                                                                  \n",
            " dense_5 (Dense)             (None, 256)                  524544    ['dense_4[0][0]']             \n",
            "                                                                                                  \n",
            " lstm_1 (LSTM)               [(None, 512),                1574912   ['dropout_1[0][0]']           \n",
            "                              (None, 512),                                                        \n",
            "                              (None, 512)]                                                        \n",
            "                                                                                                  \n",
            " concatenate_1 (Concatenate  (None, 768)                  0         ['dense_5[0][0]',             \n",
            " )                                                                   'lstm_1[0][0]']              \n",
            "                                                                                                  \n",
            " dense_6 (Dense)             (None, 256)                  196864    ['concatenate_1[0][0]']       \n",
            "                                                                                                  \n",
            " dense_7 (Dense)             (None, 112)                  28784     ['dense_6[0][0]']             \n",
            "                                                                                                  \n",
            "==================================================================================================\n",
            "Total params: 169341552 (645.99 MB)\n",
            "Trainable params: 169341552 (645.99 MB)\n",
            "Non-trainable params: 0 (0.00 Byte)\n",
            "__________________________________________________________________________________________________\n"
          ]
        }
      ]
    },
    {
      "cell_type": "markdown",
      "source": [
        "##Decoder w/ gru"
      ],
      "metadata": {
        "id": "QrJhc3c-6nia"
      }
    },
    {
      "cell_type": "code",
      "source": [
        "from tensorflow.keras.layers import GRU, Dense, Input, Embedding, Concatenate, Dropout\n",
        "from tensorflow.keras.models import Model\n",
        "\n",
        "# the input feature shape\n",
        "input_feature_shape = (57344,)  #!!! Make sure this is the intended shape!!! after any necessary preprocessing\n",
        "\n",
        "# Encoder\n",
        "inputs1 = Input(shape=input_feature_shape)\n",
        "fe1 = Dense(2048, activation='relu')(inputs1)\n",
        "fe2 = Dense(embedding_dim, activation='relu')(fe1)\n",
        "\n",
        "# Decoder\n",
        "inputs2 = Input(shape=(max_length,))\n",
        "se1 = Embedding(vocab_size, embedding_dim, mask_zero=True)(inputs2)\n",
        "se2 = Dropout(0.5)(se1)\n",
        "se3, _ = GRU(units, return_sequences=False, return_state=True)(se2)\n",
        "\n",
        "# Decoder model, using Concatenate\n",
        "decoder1 = Concatenate()([fe2, se3])\n",
        "decoder2 = Dense(embedding_dim, activation='relu')(decoder1)\n",
        "outputs = Dense(vocab_size, activation='softmax')(decoder2)\n",
        "\n",
        "model = Model(inputs=[inputs1, inputs2], outputs=outputs)\n",
        "model.compile(loss='categorical_crossentropy', optimizer='adam')\n",
        "\n",
        "# model.fit(train_gen, epochs=10, steps_per_epoch=steps_per_epoch, verbose=1)\n",
        "\n",
        "model.summary()\n"
      ],
      "metadata": {
        "id": "8LGhbSwV6pz5"
      },
      "execution_count": null,
      "outputs": []
    },
    {
      "cell_type": "code",
      "source": [
        "from tensorflow.keras.preprocessing.sequence import pad_sequences\n",
        "from tensorflow.keras.utils import to_categorical\n",
        "import numpy as np\n",
        "\n",
        "def data_generator(features, sequences, max_length, vocab_size, batch_size=32):\n",
        "    X1, X2, y = [], [], []\n",
        "    n = 0\n",
        "    # Loop over the entire dataset continuously\n",
        "    while True:\n",
        "        for i, seq in enumerate(sequences):\n",
        "            # Increment the loop counter\n",
        "            n += 1\n",
        "            # Find the image ID and retrieve the corresponding feature\n",
        "            img_id = list(features.keys())[i]\n",
        "            feature = features[img_id]\n",
        "\n",
        "            # Split the sequence into multiple X, y pairs for training\n",
        "            for i in range(1, len(seq)):\n",
        "                # Split into input and output pair\n",
        "                in_seq, out_seq = seq[:i], seq[i]\n",
        "                # Pad input sequence\n",
        "                in_seq = pad_sequences([in_seq], maxlen=max_length)[0]\n",
        "                # Encode output sequence\n",
        "                out_seq = to_categorical(out_seq, num_classes=vocab_size)\n",
        "\n",
        "                # Store the sequences\n",
        "                X1.append(feature)\n",
        "                X2.append(in_seq)\n",
        "                y.append(out_seq)\n",
        "\n",
        "            # Yield the batch data\n",
        "            if n == batch_size:\n",
        "                yield [[np.array(X1), np.array(X2)], np.array(y)]\n",
        "                X1, X2, y = [], [], []\n",
        "                n = 0\n"
      ],
      "metadata": {
        "id": "injoqrVcfSkN"
      },
      "execution_count": null,
      "outputs": []
    },
    {
      "cell_type": "code",
      "source": [
        "# Example values, replace with your actual dataset's details\n",
        "batch_size = 16\n",
        "steps_per_epoch = len(train_seqs) // batch_size\n",
        "\n",
        "# Create the generator\n",
        "train_gen = data_generator(train_features, train_seqs, max_length, vocab_size, batch_size)\n",
        "\n",
        "# Train the model\n",
        "model.fit(train_gen, epochs=10, steps_per_epoch=steps_per_epoch, verbose=1)"
      ],
      "metadata": {
        "id": "ygs5UEcafVsr",
        "colab": {
          "base_uri": "https://localhost:8080/"
        },
        "outputId": "5aa46dab-3646-409d-bf1c-e32f7c09a3b5"
      },
      "execution_count": null,
      "outputs": [
        {
          "output_type": "stream",
          "name": "stdout",
          "text": [
            "Epoch 1/10\n",
            "187/187 [==============================] - 86s 429ms/step - loss: 9.3692\n",
            "Epoch 2/10\n",
            "187/187 [==============================] - 81s 434ms/step - loss: 0.4384\n",
            "Epoch 3/10\n",
            "187/187 [==============================] - 81s 435ms/step - loss: 0.3843\n",
            "Epoch 4/10\n",
            "187/187 [==============================] - 81s 436ms/step - loss: 0.3404\n",
            "Epoch 5/10\n",
            "187/187 [==============================] - 81s 435ms/step - loss: 0.3001\n",
            "Epoch 6/10\n",
            "187/187 [==============================] - 81s 434ms/step - loss: 0.2627\n",
            "Epoch 7/10\n",
            "187/187 [==============================] - 82s 437ms/step - loss: 0.2313\n",
            "Epoch 8/10\n",
            "187/187 [==============================] - 81s 434ms/step - loss: 0.2088\n",
            "Epoch 9/10\n",
            "187/187 [==============================] - 81s 435ms/step - loss: 0.1915\n",
            "Epoch 10/10\n",
            "187/187 [==============================] - 81s 434ms/step - loss: 0.1792\n"
          ]
        },
        {
          "output_type": "execute_result",
          "data": {
            "text/plain": [
              "<keras.src.callbacks.History at 0x7927e038d660>"
            ]
          },
          "metadata": {},
          "execution_count": 24
        }
      ]
    },
    {
      "cell_type": "markdown",
      "source": [
        "# Prediction and Evaluate"
      ],
      "metadata": {
        "id": "YyG0nw5kZw1S"
      }
    },
    {
      "cell_type": "code",
      "source": [
        "def generate_latex_expression(model, image_feature, tokenizer, max_length):\n",
        "    # Start the sequence with a start token\n",
        "    in_text = '<start>'\n",
        "    # Iterate over the max length of the sequence\n",
        "    for i in range(max_length):\n",
        "        # Convert the current sequence to a tokenized form\n",
        "        sequence = tokenizer.texts_to_sequences([in_text])[0]\n",
        "        # Pad the sequence\n",
        "        sequence = pad_sequences([sequence], maxlen=max_length)\n",
        "        # Predict the next word (as a probability distribution over the vocab)\n",
        "        yhat = model.predict([np.array([image_feature]), sequence], verbose=0)\n",
        "        # Convert the probability distribution to a specific token\n",
        "        yhat = np.argmax(yhat, axis=-1)\n",
        "        # Map the token to a word\n",
        "        word = tokenizer.index_word.get(yhat[0], None)\n",
        "        # Break if we cannot map the token or if we reach the end token\n",
        "        if word is None or word == '<end>':\n",
        "            break\n",
        "        # Append to the input sequence\n",
        "        in_text += ' ' + word\n",
        "    # Remove the start token for the final output\n",
        "    final_sequence = in_text.replace('<start> ', '')\n",
        "    return final_sequence\n",
        "\n",
        "# Initialize the dictionary to store predicted labels\n",
        "predicted_labels = {}\n",
        "\n",
        "# Assuming `test_features` is a dict with ResNet-50 extracted features for test images\n",
        "for img_id, feature in test_features.items():\n",
        "    predicted_seq = generate_latex_expression(model, feature, tokenizer, max_length)\n",
        "    # Store the predicted sequence in the dictionary\n",
        "    predicted_labels[img_id] = predicted_seq\n",
        "    #print(f\"Predicted LaTeX for image {img_id}: {predicted_seq}\")\n"
      ],
      "metadata": {
        "id": "RZ_aoNpU7YOo"
      },
      "execution_count": null,
      "outputs": []
    },
    {
      "cell_type": "code",
      "source": [
        "predicted_labels"
      ],
      "metadata": {
        "id": "0yw8ySJSYdM6"
      },
      "execution_count": null,
      "outputs": []
    },
    {
      "cell_type": "code",
      "source": [
        "def display_image(image_dir, image_name):\n",
        "    image_path = os.path.join(image_dir, image_name + '_0.bmp')\n",
        "    image = Image.open(image_path)\n",
        "    #label = image_labels[image_name]\n",
        "\n",
        "    # Display the image\n",
        "    plt.imshow(image, cmap='gray')\n",
        "    plt.title(image_name)\n",
        "    plt.axis('off')  # Hide the axis\n",
        "    plt.show()\n",
        "    return image\n",
        "\n",
        "image_dir = 'off_image_test'\n",
        "display_image(image_dir, \"RIT_2014_307\")"
      ],
      "metadata": {
        "id": "XhieMht17tCy",
        "colab": {
          "base_uri": "https://localhost:8080/",
          "height": 497
        },
        "outputId": "106750f2-0078-409a-aa53-0eb1691f6667"
      },
      "execution_count": null,
      "outputs": [
        {
          "output_type": "display_data",
          "data": {
            "text/plain": [
              "<Figure size 640x480 with 1 Axes>"
            ],
            "image/png": "[encoded data removed]"
          },
          "metadata": {}
        },
        {
          "output_type": "execute_result",
          "data": {
            "text/plain": [
              "<PIL.BmpImagePlugin.BmpImageFile image mode=L size=77x69>"
            ],
            "image/png": "[encoded data removed]"
          },
          "metadata": {},
          "execution_count": 35
        }
      ]
    },
    {
      "cell_type": "code",
      "source": [
        "from nltk.translate.bleu_score import corpus_bleu\n",
        "\n",
        "# Assuming you have ground truth expressions and predicted expressions\n",
        "references = [[['this', 'is', 'a', 'test']]]  # Ground truth, wrapped in two lists\n",
        "candidates = [['this', 'is', 'a', 'test']]  # Predicted\n",
        "\n",
        "score = corpus_bleu(references, candidates)\n",
        "print(f\"BLEU score: {score}\")"
      ],
      "metadata": {
        "id": "c_hY1g9A8fPM"
      },
      "execution_count": null,
      "outputs": []
    },
    {
      "cell_type": "code",
      "source": [
        "def check_keys_equality(true_labels_dict, predicted_sequences_dict):\n",
        "    # Extract sets of keys from both dictionaries\n",
        "    true_labels_keys = set(true_labels_dict.keys())\n",
        "    predicted_sequences_keys = set(predicted_sequences_dict.keys())\n",
        "\n",
        "    # Check if the sets of keys are the same\n",
        "    if true_labels_keys == predicted_sequences_keys:\n",
        "        print(\"The sets of keys in both dictionaries are the same.\")\n",
        "        return True\n",
        "    else:\n",
        "        # If they're not the same, find differences\n",
        "        missing_in_predicted = true_labels_keys - predicted_sequences_keys\n",
        "        missing_in_true_labels = predicted_sequences_keys - true_labels_keys\n",
        "        if missing_in_predicted:\n",
        "            print(\"Keys missing in predicted_sequences:\", missing_in_predicted)\n",
        "        if missing_in_true_labels:\n",
        "            print(\"Keys missing in true_labels:\", missing_in_true_labels)\n",
        "        return False\n",
        "\n",
        "\n",
        "# Call the function\n",
        "keys_are_equal = check_keys_equality(test_captions, predicted_labels)\n"
      ],
      "metadata": {
        "colab": {
          "base_uri": "https://localhost:8080/"
        },
        "id": "gVe2axdX_o7M",
        "outputId": "9e5812e8-74a9-4dee-a10d-ea9dd78dbc55"
      },
      "execution_count": null,
      "outputs": [
        {
          "output_type": "stream",
          "name": "stdout",
          "text": [
            "The sets of keys in both dictionaries are the same.\n"
          ]
        }
      ]
    },
    {
      "cell_type": "code",
      "source": [
        "def tokenize_latex(latex_str):\n",
        "    \"\"\"\n",
        "    Tokenizes a LaTeX string into a list of tokens.\n",
        "    \"\"\"\n",
        "    # Basic tokenization process; can be improved for more complex LaTeX structures\n",
        "    tokens = latex_str.replace('\\\\', ' \\\\').split()\n",
        "    return tokens\n",
        "\n",
        "def evaluate_predictions(true_labels_dict, predicted_sequences_dict):\n",
        "    \"\"\"\n",
        "    Evaluates the predicted LaTeX sequences against the true labels.\n",
        "    \"\"\"\n",
        "    partially_correct_count = 0\n",
        "    all_correct_count = 0\n",
        "    total_count = 0\n",
        "\n",
        "    # Iterate over the true labels\n",
        "    for img_id, true_label in true_labels_dict.items():\n",
        "        if img_id in predicted_sequences_dict:\n",
        "            predicted_sequence = tokenize_latex(predicted_sequences_dict[img_id])\n",
        "            true_sequence = tokenize_latex(true_label)\n",
        "\n",
        "            # Calculate the intersection and the minimum necessary for partial correctness\n",
        "            matching_tokens = set(predicted_sequence) & set(true_sequence)\n",
        "            total_tokens = len(set(true_sequence))\n",
        "            partial_threshold = max(1, round(total_tokens * 0.5))  # Ensure there's at least 1 token for partial match\n",
        "\n",
        "            if len(matching_tokens) >= partial_threshold:\n",
        "                partially_correct_count += 1\n",
        "                if len(matching_tokens) == total_tokens and len(predicted_sequence) == len(true_sequence):\n",
        "                    all_correct_count += 1\n",
        "\n",
        "            total_count += 1\n",
        "\n",
        "    # Calculate percentages\n",
        "    partially_correct_pct = (partially_correct_count / total_count) * 100 if total_count > 0 else 0\n",
        "    all_correct_pct = (all_correct_count / total_count) * 100 if total_count > 0 else 0\n",
        "\n",
        "    return partially_correct_pct, all_correct_pct\n",
        "\n",
        "# Example usage\n",
        "true_labels = {\n",
        "    # Your true labels here\n",
        "}\n",
        "\n",
        "predicted_sequences = {\n",
        "    # Your predicted sequences here\n",
        "}\n",
        "\n",
        "partially_correct_pct, all_correct_pct = evaluate_predictions(test_captions, predicted_labels)\n",
        "print(f\"Partially Correct: {partially_correct_pct:.2f}%\")\n",
        "print(f\"All Correct: {all_correct_pct:.2f}%\")\n"
      ],
      "metadata": {
        "colab": {
          "base_uri": "https://localhost:8080/"
        },
        "id": "eoqzxnLE5hK1",
        "outputId": "a7977dfd-17dc-44b1-86ee-cf001cbdcac3"
      },
      "execution_count": null,
      "outputs": [
        {
          "output_type": "stream",
          "name": "stdout",
          "text": [
            "Partially Correct: 49.40%\n",
            "All Correct: 0.00%\n"
          ]
        }
      ]
    }
  ]
}